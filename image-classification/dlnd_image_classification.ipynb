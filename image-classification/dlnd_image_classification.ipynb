{
 "cells": [
  {
   "cell_type": "markdown",
   "metadata": {
    "collapsed": true,
    "deletable": true,
    "editable": true
   },
   "source": [
    "# Image Classification\n",
    "In this project, you'll classify images from the [CIFAR-10 dataset](https://www.cs.toronto.edu/~kriz/cifar.html).  The dataset consists of airplanes, dogs, cats, and other objects. You'll preprocess the images, then train a convolutional neural network on all the samples. The images need to be normalized and the labels need to be one-hot encoded.  You'll get to apply what you learned and build a convolutional, max pooling, dropout, and fully connected layers.  At the end, you'll get to see your neural network's predictions on the sample images.\n",
    "## Get the Data\n",
    "Run the following cell to download the [CIFAR-10 dataset for python](https://www.cs.toronto.edu/~kriz/cifar-10-python.tar.gz)."
   ]
  },
  {
   "cell_type": "code",
   "execution_count": 1,
   "metadata": {
    "collapsed": true,
    "deletable": true,
    "editable": true
   },
   "outputs": [],
   "source": [
    "\"\"\"\n",
    "DON'T MODIFY ANYTHING IN THIS CELL THAT IS BELOW THIS LINE\n",
    "\"\"\"\n",
    "from urllib.request import urlretrieve\n",
    "from os.path import isfile, isdir\n",
    "from tqdm import tqdm\n",
    "import problem_unittests as tests\n",
    "import tarfile\n",
    "cifar10_dataset_folder_path = 'cifar-10-batches-py'"
   ]
  },
  {
   "cell_type": "code",
   "execution_count": 7,
   "metadata": {
    "collapsed": false,
    "deletable": true,
    "editable": true
   },
   "outputs": [
    {
     "name": "stdout",
     "output_type": "stream",
     "text": [
      "All files found!\n"
     ]
    }
   ],
   "source": [
    "\n",
    "class DLProgress(tqdm):\n",
    "    last_block = 0\n",
    "\n",
    "    def hook(self, block_num=1, block_size=1, total_size=None):\n",
    "        self.total = total_size\n",
    "        self.update((block_num - self.last_block) * block_size)\n",
    "        self.last_block = block_num\n",
    "\n",
    "if not isfile('cifar-10-python.tar.gz'):\n",
    "    with DLProgress(unit='B', unit_scale=True, miniters=1, desc='CIFAR-10 Dataset') as pbar:\n",
    "        urlretrieve(\n",
    "            'https://www.cs.toronto.edu/~kriz/cifar-10-python.tar.gz',\n",
    "            'cifar-10-python.tar.gz',\n",
    "            pbar.hook)\n",
    "\n",
    "if not isdir(cifar10_dataset_folder_path):\n",
    "    with tarfile.open('cifar-10-python.tar.gz') as tar:\n",
    "        tar.extractall()\n",
    "        tar.close()\n",
    "\n",
    "\n",
    "tests.test_folder_path(cifar10_dataset_folder_path)"
   ]
  },
  {
   "cell_type": "markdown",
   "metadata": {
    "deletable": true,
    "editable": true
   },
   "source": [
    "## Explore the Data\n",
    "The dataset is broken into batches to prevent your machine from running out of memory.  The CIFAR-10 dataset consists of 5 batches, named `data_batch_1`, `data_batch_2`, etc.. Each batch contains the labels and images that are one of the following:\n",
    "* airplane\n",
    "* automobile\n",
    "* bird\n",
    "* cat\n",
    "* deer\n",
    "* dog\n",
    "* frog\n",
    "* horse\n",
    "* ship\n",
    "* truck\n",
    "\n",
    "Understanding a dataset is part of making predictions on the data.  Play around with the code cell below by changing the `batch_id` and `sample_id`. The `batch_id` is the id for a batch (1-5). The `sample_id` is the id for a image and label pair in the batch.\n",
    "\n",
    "Ask yourself \"What are all possible labels?\", \"What is the range of values for the image data?\", \"Are the labels in order or random?\".  Answers to questions like these will help you preprocess the data and end up with better predictions."
   ]
  },
  {
   "cell_type": "code",
   "execution_count": 2,
   "metadata": {
    "collapsed": false,
    "deletable": true,
    "editable": true
   },
   "outputs": [
    {
     "name": "stdout",
     "output_type": "stream",
     "text": [
      "\n",
      "Stats of batch 1:\n",
      "Samples: 10000\n",
      "Label Counts: {0: 1005, 1: 974, 2: 1032, 3: 1016, 4: 999, 5: 937, 6: 1030, 7: 1001, 8: 1025, 9: 981}\n",
      "First 20 Labels: [6, 9, 9, 4, 1, 1, 2, 7, 8, 3, 4, 7, 7, 2, 9, 9, 9, 3, 2, 6]\n",
      "\n",
      "Example of Image 5:\n",
      "Image - Min Value: 0 Max Value: 252\n",
      "Image - Shape: (32, 32, 3)\n",
      "Label - Label Id: 1 Name: automobile\n"
     ]
    },
    {
     "data": {
      "image/png": "iVBORw0KGgoAAAANSUhEUgAAAfoAAAH0CAYAAADVH+85AAAABHNCSVQICAgIfAhkiAAAAAlwSFlz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\nrkJggg==\n",
      "text/plain": [
       "<matplotlib.figure.Figure at 0x7f37eb487f60>"
      ]
     },
     "metadata": {
      "image/png": {
       "height": 250,
       "width": 253
      }
     },
     "output_type": "display_data"
    }
   ],
   "source": [
    "%matplotlib inline\n",
    "%config InlineBackend.figure_format = 'retina'\n",
    "\n",
    "import helper\n",
    "import numpy as np\n",
    "\n",
    "# Explore the dataset\n",
    "batch_id = 1\n",
    "sample_id = 5\n",
    "helper.display_stats(cifar10_dataset_folder_path, batch_id, sample_id)"
   ]
  },
  {
   "cell_type": "markdown",
   "metadata": {
    "deletable": true,
    "editable": true
   },
   "source": [
    "## Implement Preprocess Functions\n",
    "### Normalize\n",
    "In the cell below, implement the `normalize` function to take in image data, `x`, and return it as a normalized Numpy array. The values should be in the range of 0 to 1, inclusive.  The return object should be the same shape as `x`."
   ]
  },
  {
   "cell_type": "code",
   "execution_count": 3,
   "metadata": {
    "collapsed": false,
    "deletable": true,
    "editable": true
   },
   "outputs": [
    {
     "name": "stdout",
     "output_type": "stream",
     "text": [
      "Tests Passed\n"
     ]
    }
   ],
   "source": [
    "def normalize(x):\n",
    "    \"\"\"\n",
    "    Normalize a list of sample image data in the range of 0 to 1\n",
    "    : x: List of image data.  The image shape is (32, 32, 3)\n",
    "    : return: Numpy array of normalize data\n",
    "    \"\"\"\n",
    "    # TODO: Implement Function\n",
    "    normalized_x = [p / 256.0 for p in x]\n",
    "    \n",
    "    \n",
    "    return np.array(normalized_x)\n",
    "\n",
    "\n",
    "\"\"\"\n",
    "DON'T MODIFY ANYTHING IN THIS CELL THAT IS BELOW THIS LINE\n",
    "\"\"\"\n",
    "tests.test_normalize(normalize)"
   ]
  },
  {
   "cell_type": "markdown",
   "metadata": {
    "deletable": true,
    "editable": true
   },
   "source": [
    "### One-hot encode\n",
    "Just like the previous code cell, you'll be implementing a function for preprocessing.  This time, you'll implement the `one_hot_encode` function. The input, `x`, are a list of labels.  Implement the function to return the list of labels as One-Hot encoded Numpy array.  The possible values for labels are 0 to 9. The one-hot encoding function should return the same encoding for each value between each call to `one_hot_encode`.  Make sure to save the map of encodings outside the function.\n",
    "\n",
    "Hint: Don't reinvent the wheel."
   ]
  },
  {
   "cell_type": "code",
   "execution_count": 4,
   "metadata": {
    "collapsed": false,
    "deletable": true,
    "editable": true
   },
   "outputs": [
    {
     "name": "stdout",
     "output_type": "stream",
     "text": [
      "Tests Passed\n"
     ]
    }
   ],
   "source": [
    "def one_hot_encode(x):\n",
    "    \"\"\"\n",
    "    One hot encode a list of sample labels. Return a one-hot encoded vector for each label.\n",
    "    : x: List of sample Labels\n",
    "    : return: Numpy array of one-hot encoded labels\n",
    "    \"\"\"\n",
    "    # TODO: Implement Function\n",
    "    from sklearn import preprocessing\n",
    "\n",
    "    labels = np.array(x)\n",
    "   \n",
    "    lb = preprocessing.LabelBinarizer()\n",
    "    \n",
    "    # Here the encoder finds the classes and assigns one-hot vectors \n",
    "    lb.fit(labels)\n",
    "    lb.classes_ = np.array(list(range(10)))\n",
    "\n",
    "    # And finally, transform the labels into one-hot encoded vectors\n",
    "    return lb.transform(labels)\n",
    "\n",
    "\n",
    "\"\"\"\n",
    "DON'T MODIFY ANYTHING IN THIS CELL THAT IS BELOW THIS LINE\n",
    "\"\"\"\n",
    "tests.test_one_hot_encode(one_hot_encode)"
   ]
  },
  {
   "cell_type": "markdown",
   "metadata": {
    "deletable": true,
    "editable": true
   },
   "source": [
    "### Randomize Data\n",
    "As you saw from exploring the data above, the order of the samples are randomized.  It doesn't hurt to randomize it again, but you don't need to for this dataset."
   ]
  },
  {
   "cell_type": "markdown",
   "metadata": {
    "deletable": true,
    "editable": true
   },
   "source": [
    "## Preprocess all the data and save it\n",
    "Running the code cell below will preprocess all the CIFAR-10 data and save it to file. The code below also uses 10% of the training data for validation."
   ]
  },
  {
   "cell_type": "code",
   "execution_count": null,
   "metadata": {
    "collapsed": false,
    "deletable": true,
    "editable": true
   },
   "outputs": [],
   "source": [
    "\"\"\"\n",
    "DON'T MODIFY ANYTHING IN THIS CELL\n",
    "\"\"\"\n",
    "# Preprocess Training, Validation, and Testing Data\n",
    "helper.preprocess_and_save_data(cifar10_dataset_folder_path, normalize, one_hot_encode)"
   ]
  },
  {
   "cell_type": "markdown",
   "metadata": {
    "deletable": true,
    "editable": true
   },
   "source": [
    "# Check Point\n",
    "This is your first checkpoint.  If you ever decide to come back to this notebook or have to restart the notebook, you can start from here.  The preprocessed data has been saved to disk."
   ]
  },
  {
   "cell_type": "code",
   "execution_count": 41,
   "metadata": {
    "collapsed": false,
    "deletable": true,
    "editable": true
   },
   "outputs": [],
   "source": [
    "\"\"\"\n",
    "DON'T MODIFY ANYTHING IN THIS CELL\n",
    "\"\"\"\n",
    "import pickle\n",
    "import problem_unittests as tests\n",
    "import helper\n",
    "\n",
    "# Load the Preprocessed Validation data\n",
    "valid_features, valid_labels = pickle.load(open('preprocess_validation.p', mode='rb'))"
   ]
  },
  {
   "cell_type": "markdown",
   "metadata": {
    "deletable": true,
    "editable": true
   },
   "source": [
    "## Build the network\n",
    "For the neural network, you'll build each layer into a function.  Most of the code you've seen has been outside of functions. To test your code more thoroughly, we require that you put each layer in a function.  This allows us to give you better feedback and test for simple mistakes using our unittests before you submit your project.\n",
    "\n",
    "If you're finding it hard to dedicate enough time for this course a week, we've provided a small shortcut to this part of the project. In the next couple of problems, you'll have the option to use [TensorFlow Layers](https://www.tensorflow.org/api_docs/python/tf/layers) or [TensorFlow Layers (contrib)](https://www.tensorflow.org/api_guides/python/contrib.layers) to build each layer, except \"Convolutional & Max Pooling\" layer.  TF Layers is similar to Keras's and TFLearn's abstraction to layers, so it's easy to pickup.\n",
    "\n",
    "If you would like to get the most of this course, try to solve all the problems without TF Layers.  Let's begin!\n",
    "### Input\n",
    "The neural network needs to read the image data, one-hot encoded labels, and dropout keep probability. Implement the following functions\n",
    "* Implement `neural_net_image_input`\n",
    " * Return a [TF Placeholder](https://www.tensorflow.org/api_docs/python/tf/placeholder)\n",
    " * Set the shape using `image_shape` with batch size set to `None`.\n",
    " * Name the TensorFlow placeholder \"x\" using the TensorFlow `name` parameter in the [TF Placeholder](https://www.tensorflow.org/api_docs/python/tf/placeholder).\n",
    "* Implement `neural_net_label_input`\n",
    " * Return a [TF Placeholder](https://www.tensorflow.org/api_docs/python/tf/placeholder)\n",
    " * Set the shape using `n_classes` with batch size set to `None`.\n",
    " * Name the TensorFlow placeholder \"y\" using the TensorFlow `name` parameter in the [TF Placeholder](https://www.tensorflow.org/api_docs/python/tf/placeholder).\n",
    "* Implement `neural_net_keep_prob_input`\n",
    " * Return a [TF Placeholder](https://www.tensorflow.org/api_docs/python/tf/placeholder) for dropout keep probability.\n",
    " * Name the TensorFlow placeholder \"keep_prob\" using the TensorFlow `name` parameter in the [TF Placeholder](https://www.tensorflow.org/api_docs/python/tf/placeholder).\n",
    "\n",
    "These names will be used at the end of the project to load your saved model.\n",
    "\n",
    "Note: `None` for shapes in TensorFlow allow for a dynamic size."
   ]
  },
  {
   "cell_type": "code",
   "execution_count": 42,
   "metadata": {
    "collapsed": false,
    "deletable": true,
    "editable": true
   },
   "outputs": [
    {
     "name": "stdout",
     "output_type": "stream",
     "text": [
      "Image Input Tests Passed.\n",
      "Label Input Tests Passed.\n",
      "Keep Prob Tests Passed.\n"
     ]
    }
   ],
   "source": [
    "import tensorflow as tf\n",
    "\n",
    "def neural_net_image_input(image_shape):\n",
    "    \"\"\"\n",
    "    Return a Tensor for a bach of image input\n",
    "    : image_shape: Shape of the images\n",
    "    : return: Tensor for image input.\n",
    "    \"\"\"\n",
    "    # TODO: Implement Function\n",
    "    \n",
    "    return tf.placeholder(tf.float32, \n",
    "                          shape=[None,image_shape[0],image_shape[1],image_shape[2]], \n",
    "                          name='x')\n",
    "\n",
    "\n",
    "def neural_net_label_input(n_classes):\n",
    "    \"\"\"\n",
    "    Return a Tensor for a batch of label input\n",
    "    : n_classes: Number of classes\n",
    "    : return: Tensor for label input.\n",
    "    \"\"\"\n",
    "    # TODO: Implement Function\n",
    "    return tf.placeholder(tf.float32,\n",
    "                         shape=[None,n_classes],\n",
    "                         name='y')\n",
    "\n",
    "\n",
    "def neural_net_keep_prob_input():\n",
    "    \"\"\"\n",
    "    Return a Tensor for keep probability\n",
    "    : return: Tensor for keep probability.\n",
    "    \"\"\"\n",
    "    # TODO: Implement Function\n",
    "    return tf.placeholder(tf.float32,\n",
    "                         name='keep_prob')\n",
    "\n",
    "\n",
    "\"\"\"\n",
    "DON'T MODIFY ANYTHING IN THIS CELL THAT IS BELOW THIS LINE\n",
    "\"\"\"\n",
    "tf.reset_default_graph()\n",
    "tests.test_nn_image_inputs(neural_net_image_input)\n",
    "tests.test_nn_label_inputs(neural_net_label_input)\n",
    "tests.test_nn_keep_prob_inputs(neural_net_keep_prob_input)"
   ]
  },
  {
   "cell_type": "markdown",
   "metadata": {
    "deletable": true,
    "editable": true
   },
   "source": [
    "### Convolution and Max Pooling Layer\n",
    "Convolution layers have a lot of success with images. For this code cell, you should implement the function `conv2d_maxpool` to apply convolution then max pooling:\n",
    "* Create the weight and bias using `conv_ksize`, `conv_num_outputs` and the shape of `x_tensor`.\n",
    "* Apply a convolution to `x_tensor` using weight and `conv_strides`.\n",
    " * We recommend you use same padding, but you're welcome to use any padding.\n",
    "* Add bias\n",
    "* Add a nonlinear activation to the convolution.\n",
    "* Apply Max Pooling using `pool_ksize` and `pool_strides`.\n",
    " * We recommend you use same padding, but you're welcome to use any padding.\n",
    "\n",
    "Note: You **can't** use [TensorFlow Layers](https://www.tensorflow.org/api_docs/python/tf/layers) or [TensorFlow Layers (contrib)](https://www.tensorflow.org/api_guides/python/contrib.layers) for this layer.  You're free to use any TensorFlow package for all the other layers."
   ]
  },
  {
   "cell_type": "code",
   "execution_count": 43,
   "metadata": {
    "collapsed": false,
    "deletable": true,
    "editable": true
   },
   "outputs": [
    {
     "name": "stdout",
     "output_type": "stream",
     "text": [
      "Tests Passed\n"
     ]
    }
   ],
   "source": [
    "def conv2d_maxpool(x_tensor, conv_num_outputs, conv_ksize, conv_strides, pool_ksize, pool_strides):\n",
    "    \"\"\"\n",
    "    Apply convolution then max pooling to x_tensor\n",
    "    :param x_tensor: TensorFlow Tensor\n",
    "    :param conv_num_outputs: Number of outputs for the convolutional layer\n",
    "    :param conv_strides: Stride 2-D Tuple for convolution\n",
    "    :param pool_ksize: kernal size 2-D Tuple for pool\n",
    "    :param pool_strides: Stride 2-D Tuple for pool\n",
    "    : return: A tensor that represents convolution and max pooling of x_tensor\n",
    "    \"\"\"\n",
    "    # TODO: Implement Function\n",
    "    x_tensor_shape = x_tensor.get_shape()\n",
    "    x_tensor_height = int(x_tensor_shape[1])\n",
    "    x_tensor_width = int(x_tensor_shape[2])\n",
    "    x_tensor_colors = int(x_tensor_shape[3])\n",
    "    \n",
    "    \n",
    "    weight = tf.Variable(tf.truncated_normal([x_tensor_height, x_tensor_width, x_tensor_colors, conv_num_outputs],\n",
    "                                             mean = 0.0,\n",
    "                                             stddev = 0.01,\n",
    "                                             dtype=tf.float32\n",
    "        ))\n",
    "\n",
    "    bias = tf.Variable(tf.zeros(conv_num_outputs))\n",
    "    \n",
    "    conv_layer = tf.nn.conv2d(x_tensor, \n",
    "                              weight, \n",
    "                              strides=[1,conv_strides[0],conv_strides[1],1], \n",
    "                              padding='SAME')\n",
    "    \n",
    "    #Add bias\n",
    "    conv_layer = tf.nn.bias_add(conv_layer, bias)\n",
    "    \n",
    "    # Apply activation function\n",
    "    conv_layer = tf.nn.relu(conv_layer)\n",
    "    \n",
    "    #Apply max pooling\n",
    "    conv_layer = tf.nn.max_pool(conv_layer,\n",
    "                                ksize=[1, pool_ksize[0], pool_ksize[1], 1],\n",
    "                                strides=[1, pool_strides[0], pool_strides[1], 1],\n",
    "                                padding='SAME')\n",
    "    \n",
    "    return conv_layer\n",
    "\n",
    "\n",
    "\"\"\"\n",
    "DON'T MODIFY ANYTHING IN THIS CELL THAT IS BELOW THIS LINE\n",
    "\"\"\"\n",
    "tests.test_con_pool(conv2d_maxpool)"
   ]
  },
  {
   "cell_type": "markdown",
   "metadata": {
    "deletable": true,
    "editable": true
   },
   "source": [
    "### Flatten Layer\n",
    "Implement the `flatten` function to change the dimension of `x_tensor` from a 4-D tensor to a 2-D tensor.  The output should be the shape (*Batch Size*, *Flattened Image Size*). You can use [TensorFlow Layers](https://www.tensorflow.org/api_docs/python/tf/layers) or [TensorFlow Layers (contrib)](https://www.tensorflow.org/api_guides/python/contrib.layers) for this layer."
   ]
  },
  {
   "cell_type": "code",
   "execution_count": 44,
   "metadata": {
    "collapsed": false,
    "deletable": true,
    "editable": true
   },
   "outputs": [
    {
     "name": "stdout",
     "output_type": "stream",
     "text": [
      "Tests Passed\n"
     ]
    }
   ],
   "source": [
    "def flatten(x_tensor):\n",
    "    \"\"\"\n",
    "    Flatten x_tensor to (Batch Size, Flattened Image Size)\n",
    "    : x_tensor: A tensor of size (Batch Size, ...), where ... are the image dimensions.\n",
    "    : return: A tensor of size (Batch Size, Flattened Image Size).\n",
    "    \"\"\"\n",
    "    # TODO: Implement Function\n",
    "    shape = x_tensor.get_shape()\n",
    "\n",
    "    flat_size = int(np.prod(shape[1:]))\n",
    "    \n",
    "    flattened = tf.reshape(x_tensor, [-1, flat_size])    \n",
    "    \n",
    "    return flattened\n",
    "\n",
    "\n",
    "\"\"\"\n",
    "DON'T MODIFY ANYTHING IN THIS CELL THAT IS BELOW THIS LINE\n",
    "\"\"\"\n",
    "tests.test_flatten(flatten)"
   ]
  },
  {
   "cell_type": "markdown",
   "metadata": {
    "deletable": true,
    "editable": true
   },
   "source": [
    "### Fully-Connected Layer\n",
    "Implement the `fully_conn` function to apply a fully connected layer to `x_tensor` with the shape (*Batch Size*, *num_outputs*). You can use [TensorFlow Layers](https://www.tensorflow.org/api_docs/python/tf/layers) or [TensorFlow Layers (contrib)](https://www.tensorflow.org/api_guides/python/contrib.layers) for this layer."
   ]
  },
  {
   "cell_type": "code",
   "execution_count": 45,
   "metadata": {
    "collapsed": false,
    "deletable": true,
    "editable": true
   },
   "outputs": [
    {
     "name": "stdout",
     "output_type": "stream",
     "text": [
      "Tests Passed\n"
     ]
    }
   ],
   "source": [
    "def fully_conn(x_tensor, num_outputs):\n",
    "    \"\"\"\n",
    "    Apply a fully connected layer to x_tensor using weight and bias\n",
    "    : x_tensor: A 2-D tensor where the first dimension is batch size.\n",
    "    : num_outputs: The number of output that the new tensor should be.\n",
    "    : return: A 2-D tensor where the second dimension is num_outputs.\n",
    "    \"\"\"\n",
    "    # TODO: Implement Function\n",
    "    x_tensor_shape = x_tensor.get_shape()\n",
    "    \n",
    "    \n",
    "    weight = tf.Variable(tf.truncated_normal([int(x_tensor_shape[1]), num_outputs], \n",
    "                                             mean=0,\n",
    "                                             stddev=0.01,\n",
    "                                             dtype=tf.float32))\n",
    "\n",
    "    bias = tf.Variable(tf.zeros(num_outputs))\n",
    "    \n",
    "    hidden = tf.nn.relu(tf.matmul(x_tensor, weight) + bias)\n",
    "    \n",
    "    return hidden\n",
    "\n",
    "\n",
    "\"\"\"\n",
    "DON'T MODIFY ANYTHING IN THIS CELL THAT IS BELOW THIS LINE\n",
    "\"\"\"\n",
    "tests.test_fully_conn(fully_conn)"
   ]
  },
  {
   "cell_type": "markdown",
   "metadata": {
    "deletable": true,
    "editable": true
   },
   "source": [
    "### Output Layer\n",
    "Implement the `output` function to apply a fully connected layer to `x_tensor` with the shape (*Batch Size*, *num_outputs*). You can use [TensorFlow Layers](https://www.tensorflow.org/api_docs/python/tf/layers) or [TensorFlow Layers (contrib)](https://www.tensorflow.org/api_guides/python/contrib.layers) for this layer.\n",
    "\n",
    "Note: Activation, softmax, or cross entropy shouldn't be applied to this."
   ]
  },
  {
   "cell_type": "code",
   "execution_count": 46,
   "metadata": {
    "collapsed": false,
    "deletable": true,
    "editable": true
   },
   "outputs": [
    {
     "name": "stdout",
     "output_type": "stream",
     "text": [
      "Tests Passed\n"
     ]
    }
   ],
   "source": [
    "def output(x_tensor, num_outputs):\n",
    "    \"\"\"\n",
    "    Apply a output layer to x_tensor using weight and bias\n",
    "    : x_tensor: A 2-D tensor where the first dimension is batch size.\n",
    "    : num_outputs: The number of output that the new tensor should be.\n",
    "    : return: A 2-D tensor where the second dimension is num_outputs.\n",
    "    \"\"\"\n",
    "    # TODO: Implement Function\n",
    "    \n",
    "    x_tensor_shape = x_tensor.get_shape()\n",
    "    \n",
    "    weight = tf.Variable(tf.truncated_normal([int(x_tensor_shape[1]), num_outputs],\n",
    "                                             mean=0.0,\n",
    "                                             stddev=0.01,\n",
    "                                             dtype=tf.float32        ))\n",
    "\n",
    "    bias = tf.Variable(tf.zeros(num_outputs))\n",
    "    \n",
    "    hidden = tf.nn.relu(tf.matmul(x_tensor, weight) + bias)\n",
    "    \n",
    "    return hidden\n",
    "\n",
    "\n",
    "\n",
    "\"\"\"\n",
    "DON'T MODIFY ANYTHING IN THIS CELL THAT IS BELOW THIS LINE\n",
    "\"\"\"\n",
    "tests.test_output(output)"
   ]
  },
  {
   "cell_type": "markdown",
   "metadata": {
    "deletable": true,
    "editable": true
   },
   "source": [
    "### Create Convolutional Model\n",
    "Implement the function `conv_net` to create a convolutional neural network model. The function takes in a batch of images, `x`, and outputs logits.  Use the layers you created above to create this model:\n",
    "\n",
    "* Apply 1, 2, or 3 Convolution and Max Pool layers\n",
    "* Apply a Flatten Layer\n",
    "* Apply 1, 2, or 3 Fully Connected Layers\n",
    "* Apply an Output Layer\n",
    "* Return the output\n",
    "* Apply [TensorFlow's Dropout](https://www.tensorflow.org/api_docs/python/tf/nn/dropout) to one or more layers in the model using `keep_prob`. "
   ]
  },
  {
   "cell_type": "code",
<<<<<<< HEAD
   "execution_count": 123,
=======
   "execution_count": 47,
>>>>>>> 371a080e55db1775eaaeec36ffebb55676b5d43b
   "metadata": {
    "collapsed": false,
    "deletable": true,
    "editable": true
   },
   "outputs": [
    {
     "name": "stdout",
     "output_type": "stream",
     "text": [
      "Neural Network Built!\n"
     ]
    }
   ],
   "source": [
    "def conv_net(x, keep_prob):\n",
    "    \"\"\"\n",
    "    Create a convolutional neural network model\n",
    "    : x: Placeholder tensor that holds image data.\n",
    "    : keep_prob: Placeholder tensor that hold dropout keep probability.\n",
    "    : return: Tensor that represents logits\n",
    "    \"\"\"\n",
    "    # TODO: Apply 1, 2, or 3 Convolution and Max Pool layers\n",
    "    #    Play around with different number of outputs, kernel size and stride\n",
    "    # Function Definition from Above:\n",
    "    #    conv2d_maxpool(x_tensor, conv_num_outputs, conv_ksize, conv_strides, pool_ksize, pool_strides)\n",
    "    \n",
<<<<<<< HEAD
    "    x = conv2d_maxpool(x, 64, [4,4], [2,2], [2,2], [1,1])\n",
    "#     print(x.get_shape())\n",
    "    x = conv2d_maxpool(x, 32, [4,4], [2,2], [2,2], [1,1])\n",
    "#     print(x.get_shape())\n",
=======
    "    x = conv2d_maxpool(x, 32, [5,5], [1,1], [3,3], [2,2])\n",
    "#     x = conv2d_maxpool(x, 32, [5,5], [1,1], [3,3], [2,2])\n",
    "    \n",
    "    x = tf.nn.dropout(x,keep_prob)\n",
>>>>>>> 371a080e55db1775eaaeec36ffebb55676b5d43b
    "\n",
    "    # TODO: Apply a Flatten Layer\n",
    "    # Function Definition from Above:\n",
    "    #   flatten(x_tensor)    \n",
    "   \n",
    "    x = flatten(x)\n",
    "\n",
    "    # TODO: Apply 1, 2, or 3 Fully Connected Layers\n",
    "    #    Play around with different number of outputs\n",
    "    # Function Definition from Above:\n",
    "    #   fully_conn(x_tensor, num_outputs)\n",
    "    \n",
<<<<<<< HEAD
    "    x = fully_conn(x, 64)\n",
    "    x = fully_conn(x, 32)\n",
    "    x = fully_conn(x, 16)\n",
    "    \n",
    "#     print(x.get_shape())\n",
=======
    "    x = fully_conn(x, 350)\n",
    "#     x = fully_conn(x, 50)\n",
    "#     x = fully_conn(x,20)\n",
    "    \n",
    "    x = tf.nn.dropout(x, keep_prob)\n",
>>>>>>> 371a080e55db1775eaaeec36ffebb55676b5d43b
    "    \n",
    "    # TODO: Apply an Output Layer\n",
    "    #    Set this to the number of classes\n",
    "    # Function Definition from Above:\n",
    "    #   output(x_tensor, num_outputs)\n",
    "    \n",
    "    x = output(x, 10)\n",
<<<<<<< HEAD
    "#     print(x.get_shape())\n",
=======
    "\n",
>>>>>>> 371a080e55db1775eaaeec36ffebb55676b5d43b
    "    # TODO: return output\n",
    "    return x\n",
    "\n",
    "\n",
    "\"\"\"\n",
    "DON'T MODIFY ANYTHING IN THIS CELL THAT IS BELOW THIS LINE\n",
    "\"\"\"\n",
    "\n",
    "##############################\n",
    "## Build the Neural Network ##\n",
    "##############################\n",
    "\n",
    "# Remove previous weights, bias, inputs, etc..\n",
    "tf.reset_default_graph()\n",
    "\n",
    "# Inputs\n",
    "x = neural_net_image_input((32, 32, 3))\n",
    "y = neural_net_label_input(10)\n",
    "keep_prob = neural_net_keep_prob_input()\n",
    "\n",
    "# Model\n",
    "logits = conv_net(x, keep_prob)\n",
    "\n",
    "# Name logits Tensor, so that is can be loaded from disk after training\n",
    "logits = tf.identity(logits, name='logits')\n",
    "\n",
    "# Loss and Optimizer\n",
    "cost = tf.reduce_mean(tf.nn.softmax_cross_entropy_with_logits(logits=logits, labels=y))\n",
    "optimizer = tf.train.AdamOptimizer().minimize(cost)\n",
    "\n",
    "# Accuracy\n",
    "correct_pred = tf.equal(tf.argmax(logits, 1), tf.argmax(y, 1))\n",
    "accuracy = tf.reduce_mean(tf.cast(correct_pred, tf.float32), name='accuracy')\n",
    "\n",
    "tests.test_conv_net(conv_net)"
   ]
  },
  {
   "cell_type": "markdown",
   "metadata": {
    "deletable": true,
    "editable": true
   },
   "source": [
    "## Train the Neural Network\n",
    "### Single Optimization\n",
    "Implement the function `train_neural_network` to do a single optimization.  The optimization should use `optimizer` to optimize in `session` with a `feed_dict` of the following:\n",
    "* `x` for image input\n",
    "* `y` for labels\n",
    "* `keep_prob` for keep probability for dropout\n",
    "\n",
    "This function will be called for each batch, so `tf.global_variables_initializer()` has already been called.\n",
    "\n",
    "Note: Nothing needs to be returned. This function is only optimizing the neural network."
   ]
  },
  {
   "cell_type": "code",
<<<<<<< HEAD
   "execution_count": 124,
=======
   "execution_count": 48,
>>>>>>> 371a080e55db1775eaaeec36ffebb55676b5d43b
   "metadata": {
    "collapsed": false,
    "deletable": true,
    "editable": true
   },
   "outputs": [
    {
     "name": "stdout",
     "output_type": "stream",
     "text": [
      "Tests Passed\n"
     ]
    }
   ],
   "source": [
    "def train_neural_network(session, optimizer, keep_probability, feature_batch, label_batch):\n",
    "    \"\"\"\n",
    "    Optimize the session on a batch of images and labels\n",
    "    : session: Current TensorFlow session\n",
    "    : optimizer: TensorFlow optimizer function\n",
    "    : keep_probability: keep probability\n",
    "    : feature_batch: Batch of Numpy image data\n",
    "    : label_batch: Batch of Numpy label data\n",
    "    \"\"\"\n",
    "    # TODO: Implement Function\n",
    "    \n",
    "    session.run(optimizer, feed_dict={x: feature_batch,\n",
    "                                      y: label_batch,\n",
    "                                      keep_prob: keep_probability})\n",
    "    \n",
    "    pass\n",
    "\n",
    "\n",
    "\"\"\"\n",
    "DON'T MODIFY ANYTHING IN THIS CELL THAT IS BELOW THIS LINE\n",
    "\"\"\"\n",
    "tests.test_train_nn(train_neural_network)"
   ]
  },
  {
   "cell_type": "markdown",
   "metadata": {
    "deletable": true,
    "editable": true
   },
   "source": [
    "### Show Stats\n",
    "Implement the function `print_stats` to print loss and validation accuracy.  Use the global variables `valid_features` and `valid_labels` to calculate validation accuracy.  Use a keep probability of `1.0` to calculate the loss and validation accuracy."
   ]
  },
  {
   "cell_type": "code",
<<<<<<< HEAD
   "execution_count": 125,
=======
   "execution_count": 49,
>>>>>>> 371a080e55db1775eaaeec36ffebb55676b5d43b
   "metadata": {
    "collapsed": false,
    "deletable": true,
    "editable": true
   },
   "outputs": [],
   "source": [
    "def print_stats(session, feature_batch, label_batch, cost, accuracy):\n",
    "    \"\"\"\n",
    "    Print information about loss and validation accuracy\n",
    "    : session: Current TensorFlow session\n",
    "    : feature_batch: Batch of Numpy image data\n",
    "    : label_batch: Batch of Numpy label data\n",
    "    : cost: TensorFlow cost function\n",
    "    : accuracy: TensorFlow accuracy function\n",
    "    \"\"\"\n",
    "    loss = session.run(cost, \n",
    "                       feed_dict = {x: feature_batch,\n",
    "                                    y: label_batch, \n",
    "                                    keep_prob: 1.0})\n",
    "    acc = session.run(accuracy,\n",
    "                      feed_dict = {x: valid_features, \n",
    "                                    y: valid_labels, \n",
    "                                    keep_prob: 1.0})\n",
    "     \n",
    "    print('loss', loss) \n",
    "    print('accuracy', acc)\n",
    "    # TODO: Implement Function\n",
    "    pass"
   ]
  },
  {
   "cell_type": "markdown",
   "metadata": {
    "deletable": true,
    "editable": true
   },
   "source": [
    "### Hyperparameters\n",
    "Tune the following parameters:\n",
    "* Set `epochs` to the number of iterations until the network stops learning or start overfitting\n",
    "* Set `batch_size` to the highest number that your machine has memory for.  Most people set them to common sizes of memory:\n",
    " * 64\n",
    " * 128\n",
    " * 256\n",
    " * ...\n",
    "* Set `keep_probability` to the probability of keeping a node using dropout"
   ]
  },
  {
   "cell_type": "code",
<<<<<<< HEAD
   "execution_count": 130,
=======
   "execution_count": 50,
>>>>>>> 371a080e55db1775eaaeec36ffebb55676b5d43b
   "metadata": {
    "collapsed": true,
    "deletable": true,
    "editable": true
   },
   "outputs": [],
   "source": [
    "# TODO: Tune Parameters\n",
<<<<<<< HEAD
    "epochs = 20\n",
    "batch_size = 256\n",
    "keep_probability = 0.75"
=======
    "epochs = 50\n",
    "batch_size = 512\n",
    "keep_probability = 0.5"
>>>>>>> 371a080e55db1775eaaeec36ffebb55676b5d43b
   ]
  },
  {
   "cell_type": "markdown",
   "metadata": {
    "deletable": true,
    "editable": true
   },
   "source": [
    "### Train on a Single CIFAR-10 Batch\n",
    "Instead of training the neural network on all the CIFAR-10 batches of data, let's use a single batch. This should save time while you iterate on the model to get a better accuracy.  Once the final validation accuracy is 50% or greater, run the model on all the data in the next section."
   ]
  },
  {
   "cell_type": "code",
<<<<<<< HEAD
   "execution_count": 131,
=======
   "execution_count": 51,
>>>>>>> 371a080e55db1775eaaeec36ffebb55676b5d43b
   "metadata": {
    "collapsed": false,
    "deletable": true,
    "editable": true
   },
   "outputs": [
    {
     "name": "stdout",
     "output_type": "stream",
     "text": [
      "Checking the Training on a Single Batch...\n",
<<<<<<< HEAD
      "Epoch  1, CIFAR-10 Batch 1:  loss 119467.0\n",
      "accuracy 0.0922\n",
      "Epoch  2, CIFAR-10 Batch 1:  loss 61136.8\n",
      "accuracy 0.1128\n",
      "Epoch  3, CIFAR-10 Batch 1:  loss 41987.4\n",
      "accuracy 0.1212\n",
      "Epoch  4, CIFAR-10 Batch 1:  loss 31100.0\n",
      "accuracy 0.129\n",
      "Epoch  5, CIFAR-10 Batch 1:  loss 21534.3\n",
      "accuracy 0.1356\n",
      "Epoch  6, CIFAR-10 Batch 1:  loss 15330.1\n",
      "accuracy 0.1278\n",
      "Epoch  7, CIFAR-10 Batch 1:  "
     ]
    },
    {
     "ename": "KeyboardInterrupt",
     "evalue": "",
     "output_type": "error",
     "traceback": [
      "\u001b[0;31m---------------------------------------------------------------------------\u001b[0m",
      "\u001b[0;31mKeyboardInterrupt\u001b[0m                         Traceback (most recent call last)",
      "\u001b[0;32m<ipython-input-131-0ebd1bbc35ad>\u001b[0m in \u001b[0;36m<module>\u001b[0;34m()\u001b[0m\n\u001b[1;32m     13\u001b[0m             \u001b[0mtrain_neural_network\u001b[0m\u001b[0;34m(\u001b[0m\u001b[0msess\u001b[0m\u001b[0;34m,\u001b[0m \u001b[0moptimizer\u001b[0m\u001b[0;34m,\u001b[0m \u001b[0mkeep_probability\u001b[0m\u001b[0;34m,\u001b[0m \u001b[0mbatch_features\u001b[0m\u001b[0;34m,\u001b[0m \u001b[0mbatch_labels\u001b[0m\u001b[0;34m)\u001b[0m\u001b[0;34m\u001b[0m\u001b[0m\n\u001b[1;32m     14\u001b[0m         \u001b[0mprint\u001b[0m\u001b[0;34m(\u001b[0m\u001b[0;34m'Epoch {:>2}, CIFAR-10 Batch {}:  '\u001b[0m\u001b[0;34m.\u001b[0m\u001b[0mformat\u001b[0m\u001b[0;34m(\u001b[0m\u001b[0mepoch\u001b[0m \u001b[0;34m+\u001b[0m \u001b[0;36m1\u001b[0m\u001b[0;34m,\u001b[0m \u001b[0mbatch_i\u001b[0m\u001b[0;34m)\u001b[0m\u001b[0;34m,\u001b[0m \u001b[0mend\u001b[0m\u001b[0;34m=\u001b[0m\u001b[0;34m''\u001b[0m\u001b[0;34m)\u001b[0m\u001b[0;34m\u001b[0m\u001b[0m\n\u001b[0;32m---> 15\u001b[0;31m         \u001b[0mprint_stats\u001b[0m\u001b[0;34m(\u001b[0m\u001b[0msess\u001b[0m\u001b[0;34m,\u001b[0m \u001b[0mbatch_features\u001b[0m\u001b[0;34m,\u001b[0m \u001b[0mbatch_labels\u001b[0m\u001b[0;34m,\u001b[0m \u001b[0mcost\u001b[0m\u001b[0;34m,\u001b[0m \u001b[0maccuracy\u001b[0m\u001b[0;34m)\u001b[0m\u001b[0;34m\u001b[0m\u001b[0m\n\u001b[0m",
      "\u001b[0;32m<ipython-input-125-d3321777987c>\u001b[0m in \u001b[0;36mprint_stats\u001b[0;34m(session, feature_batch, label_batch, cost, accuracy)\u001b[0m\n\u001b[1;32m     15\u001b[0m                       feed_dict = {x: valid_features, \n\u001b[1;32m     16\u001b[0m                                     \u001b[0my\u001b[0m\u001b[0;34m:\u001b[0m \u001b[0mvalid_labels\u001b[0m\u001b[0;34m,\u001b[0m\u001b[0;34m\u001b[0m\u001b[0m\n\u001b[0;32m---> 17\u001b[0;31m                                     keep_prob: 1.0})\n\u001b[0m\u001b[1;32m     18\u001b[0m \u001b[0;34m\u001b[0m\u001b[0m\n\u001b[1;32m     19\u001b[0m     \u001b[0mprint\u001b[0m\u001b[0;34m(\u001b[0m\u001b[0;34m'loss'\u001b[0m\u001b[0;34m,\u001b[0m \u001b[0mloss\u001b[0m\u001b[0;34m)\u001b[0m\u001b[0;34m\u001b[0m\u001b[0m\n",
      "\u001b[0;32m/Users/craig/anaconda3/lib/python3.5/site-packages/tensorflow/python/client/session.py\u001b[0m in \u001b[0;36mrun\u001b[0;34m(self, fetches, feed_dict, options, run_metadata)\u001b[0m\n\u001b[1;32m    764\u001b[0m     \u001b[0;32mtry\u001b[0m\u001b[0;34m:\u001b[0m\u001b[0;34m\u001b[0m\u001b[0m\n\u001b[1;32m    765\u001b[0m       result = self._run(None, fetches, feed_dict, options_ptr,\n\u001b[0;32m--> 766\u001b[0;31m                          run_metadata_ptr)\n\u001b[0m\u001b[1;32m    767\u001b[0m       \u001b[0;32mif\u001b[0m \u001b[0mrun_metadata\u001b[0m\u001b[0;34m:\u001b[0m\u001b[0;34m\u001b[0m\u001b[0m\n\u001b[1;32m    768\u001b[0m         \u001b[0mproto_data\u001b[0m \u001b[0;34m=\u001b[0m \u001b[0mtf_session\u001b[0m\u001b[0;34m.\u001b[0m\u001b[0mTF_GetBuffer\u001b[0m\u001b[0;34m(\u001b[0m\u001b[0mrun_metadata_ptr\u001b[0m\u001b[0;34m)\u001b[0m\u001b[0;34m\u001b[0m\u001b[0m\n",
      "\u001b[0;32m/Users/craig/anaconda3/lib/python3.5/site-packages/tensorflow/python/client/session.py\u001b[0m in \u001b[0;36m_run\u001b[0;34m(self, handle, fetches, feed_dict, options, run_metadata)\u001b[0m\n\u001b[1;32m    962\u001b[0m     \u001b[0;32mif\u001b[0m \u001b[0mfinal_fetches\u001b[0m \u001b[0;32mor\u001b[0m \u001b[0mfinal_targets\u001b[0m\u001b[0;34m:\u001b[0m\u001b[0;34m\u001b[0m\u001b[0m\n\u001b[1;32m    963\u001b[0m       results = self._do_run(handle, final_targets, final_fetches,\n\u001b[0;32m--> 964\u001b[0;31m                              feed_dict_string, options, run_metadata)\n\u001b[0m\u001b[1;32m    965\u001b[0m     \u001b[0;32melse\u001b[0m\u001b[0;34m:\u001b[0m\u001b[0;34m\u001b[0m\u001b[0m\n\u001b[1;32m    966\u001b[0m       \u001b[0mresults\u001b[0m \u001b[0;34m=\u001b[0m \u001b[0;34m[\u001b[0m\u001b[0;34m]\u001b[0m\u001b[0;34m\u001b[0m\u001b[0m\n",
      "\u001b[0;32m/Users/craig/anaconda3/lib/python3.5/site-packages/tensorflow/python/client/session.py\u001b[0m in \u001b[0;36m_do_run\u001b[0;34m(self, handle, target_list, fetch_list, feed_dict, options, run_metadata)\u001b[0m\n\u001b[1;32m   1012\u001b[0m     \u001b[0;32mif\u001b[0m \u001b[0mhandle\u001b[0m \u001b[0;32mis\u001b[0m \u001b[0;32mNone\u001b[0m\u001b[0;34m:\u001b[0m\u001b[0;34m\u001b[0m\u001b[0m\n\u001b[1;32m   1013\u001b[0m       return self._do_call(_run_fn, self._session, feed_dict, fetch_list,\n\u001b[0;32m-> 1014\u001b[0;31m                            target_list, options, run_metadata)\n\u001b[0m\u001b[1;32m   1015\u001b[0m     \u001b[0;32melse\u001b[0m\u001b[0;34m:\u001b[0m\u001b[0;34m\u001b[0m\u001b[0m\n\u001b[1;32m   1016\u001b[0m       return self._do_call(_prun_fn, self._session, handle, feed_dict,\n",
      "\u001b[0;32m/Users/craig/anaconda3/lib/python3.5/site-packages/tensorflow/python/client/session.py\u001b[0m in \u001b[0;36m_do_call\u001b[0;34m(self, fn, *args)\u001b[0m\n\u001b[1;32m   1019\u001b[0m   \u001b[0;32mdef\u001b[0m \u001b[0m_do_call\u001b[0m\u001b[0;34m(\u001b[0m\u001b[0mself\u001b[0m\u001b[0;34m,\u001b[0m \u001b[0mfn\u001b[0m\u001b[0;34m,\u001b[0m \u001b[0;34m*\u001b[0m\u001b[0margs\u001b[0m\u001b[0;34m)\u001b[0m\u001b[0;34m:\u001b[0m\u001b[0;34m\u001b[0m\u001b[0m\n\u001b[1;32m   1020\u001b[0m     \u001b[0;32mtry\u001b[0m\u001b[0;34m:\u001b[0m\u001b[0;34m\u001b[0m\u001b[0m\n\u001b[0;32m-> 1021\u001b[0;31m       \u001b[0;32mreturn\u001b[0m \u001b[0mfn\u001b[0m\u001b[0;34m(\u001b[0m\u001b[0;34m*\u001b[0m\u001b[0margs\u001b[0m\u001b[0;34m)\u001b[0m\u001b[0;34m\u001b[0m\u001b[0m\n\u001b[0m\u001b[1;32m   1022\u001b[0m     \u001b[0;32mexcept\u001b[0m \u001b[0merrors\u001b[0m\u001b[0;34m.\u001b[0m\u001b[0mOpError\u001b[0m \u001b[0;32mas\u001b[0m \u001b[0me\u001b[0m\u001b[0;34m:\u001b[0m\u001b[0;34m\u001b[0m\u001b[0m\n\u001b[1;32m   1023\u001b[0m       \u001b[0mmessage\u001b[0m \u001b[0;34m=\u001b[0m \u001b[0mcompat\u001b[0m\u001b[0;34m.\u001b[0m\u001b[0mas_text\u001b[0m\u001b[0;34m(\u001b[0m\u001b[0me\u001b[0m\u001b[0;34m.\u001b[0m\u001b[0mmessage\u001b[0m\u001b[0;34m)\u001b[0m\u001b[0;34m\u001b[0m\u001b[0m\n",
      "\u001b[0;32m/Users/craig/anaconda3/lib/python3.5/site-packages/tensorflow/python/client/session.py\u001b[0m in \u001b[0;36m_run_fn\u001b[0;34m(session, feed_dict, fetch_list, target_list, options, run_metadata)\u001b[0m\n\u001b[1;32m   1001\u001b[0m         return tf_session.TF_Run(session, options,\n\u001b[1;32m   1002\u001b[0m                                  \u001b[0mfeed_dict\u001b[0m\u001b[0;34m,\u001b[0m \u001b[0mfetch_list\u001b[0m\u001b[0;34m,\u001b[0m \u001b[0mtarget_list\u001b[0m\u001b[0;34m,\u001b[0m\u001b[0;34m\u001b[0m\u001b[0m\n\u001b[0;32m-> 1003\u001b[0;31m                                  status, run_metadata)\n\u001b[0m\u001b[1;32m   1004\u001b[0m \u001b[0;34m\u001b[0m\u001b[0m\n\u001b[1;32m   1005\u001b[0m     \u001b[0;32mdef\u001b[0m \u001b[0m_prun_fn\u001b[0m\u001b[0;34m(\u001b[0m\u001b[0msession\u001b[0m\u001b[0;34m,\u001b[0m \u001b[0mhandle\u001b[0m\u001b[0;34m,\u001b[0m \u001b[0mfeed_dict\u001b[0m\u001b[0;34m,\u001b[0m \u001b[0mfetch_list\u001b[0m\u001b[0;34m)\u001b[0m\u001b[0;34m:\u001b[0m\u001b[0;34m\u001b[0m\u001b[0m\n",
      "\u001b[0;31mKeyboardInterrupt\u001b[0m: "
=======
      "Epoch  1, CIFAR-10 Batch 1:  loss 2.23377\n",
      "accuracy 0.1622\n",
      "Epoch  2, CIFAR-10 Batch 1:  loss 2.23014\n",
      "accuracy 0.2076\n",
      "Epoch  3, CIFAR-10 Batch 1:  loss 2.18171\n",
      "accuracy 0.2336\n",
      "Epoch  4, CIFAR-10 Batch 1:  loss 2.12928\n",
      "accuracy 0.2624\n",
      "Epoch  5, CIFAR-10 Batch 1:  loss 2.07024\n",
      "accuracy 0.2826\n",
      "Epoch  6, CIFAR-10 Batch 1:  loss 1.99735\n",
      "accuracy 0.3248\n",
      "Epoch  7, CIFAR-10 Batch 1:  loss 1.9816\n",
      "accuracy 0.3198\n",
      "Epoch  8, CIFAR-10 Batch 1:  loss 1.94675\n",
      "accuracy 0.348\n",
      "Epoch  9, CIFAR-10 Batch 1:  loss 1.8454\n",
      "accuracy 0.3514\n",
      "Epoch 10, CIFAR-10 Batch 1:  loss 1.77956\n",
      "accuracy 0.3768\n",
      "Epoch 11, CIFAR-10 Batch 1:  loss 1.78579\n",
      "accuracy 0.3634\n",
      "Epoch 12, CIFAR-10 Batch 1:  loss 1.7509\n",
      "accuracy 0.3806\n",
      "Epoch 13, CIFAR-10 Batch 1:  loss 1.73909\n",
      "accuracy 0.3718\n",
      "Epoch 14, CIFAR-10 Batch 1:  loss 1.6845\n",
      "accuracy 0.3952\n",
      "Epoch 15, CIFAR-10 Batch 1:  loss 1.70372\n",
      "accuracy 0.3838\n",
      "Epoch 16, CIFAR-10 Batch 1:  loss 1.64717\n",
      "accuracy 0.4032\n",
      "Epoch 17, CIFAR-10 Batch 1:  loss 1.63239\n",
      "accuracy 0.3978\n",
      "Epoch 18, CIFAR-10 Batch 1:  loss 1.61477\n",
      "accuracy 0.404\n",
      "Epoch 19, CIFAR-10 Batch 1:  loss 1.58262\n",
      "accuracy 0.4078\n",
      "Epoch 20, CIFAR-10 Batch 1:  loss 1.57629\n",
      "accuracy 0.4\n",
      "Epoch 21, CIFAR-10 Batch 1:  loss 1.5424\n",
      "accuracy 0.4116\n",
      "Epoch 22, CIFAR-10 Batch 1:  loss 1.52714\n",
      "accuracy 0.4052\n",
      "Epoch 23, CIFAR-10 Batch 1:  loss 1.49753\n",
      "accuracy 0.4132\n",
      "Epoch 24, CIFAR-10 Batch 1:  loss 1.49805\n",
      "accuracy 0.4152\n",
      "Epoch 25, CIFAR-10 Batch 1:  loss 1.45703\n",
      "accuracy 0.411\n",
      "Epoch 26, CIFAR-10 Batch 1:  loss 1.49373\n",
      "accuracy 0.4028\n",
      "Epoch 27, CIFAR-10 Batch 1:  loss 1.44128\n",
      "accuracy 0.4072\n",
      "Epoch 28, CIFAR-10 Batch 1:  loss 1.41056\n",
      "accuracy 0.3936\n",
      "Epoch 29, CIFAR-10 Batch 1:  loss 1.39309\n",
      "accuracy 0.4102\n",
      "Epoch 30, CIFAR-10 Batch 1:  loss 1.38391\n",
      "accuracy 0.403\n",
      "Epoch 31, CIFAR-10 Batch 1:  loss 1.39434\n",
      "accuracy 0.3994\n",
      "Epoch 32, CIFAR-10 Batch 1:  loss 1.33663\n",
      "accuracy 0.4126\n",
      "Epoch 33, CIFAR-10 Batch 1:  loss 1.23411\n",
      "accuracy 0.4306\n",
      "Epoch 34, CIFAR-10 Batch 1:  loss 1.20832\n",
      "accuracy 0.43\n",
      "Epoch 35, CIFAR-10 Batch 1:  loss 1.16843\n",
      "accuracy 0.4368\n",
      "Epoch 36, CIFAR-10 Batch 1:  loss 1.12768\n",
      "accuracy 0.4394\n",
      "Epoch 37, CIFAR-10 Batch 1:  loss 1.11843\n",
      "accuracy 0.4348\n",
      "Epoch 38, CIFAR-10 Batch 1:  loss 1.12123\n",
      "accuracy 0.4378\n",
      "Epoch 39, CIFAR-10 Batch 1:  loss 1.10025\n",
      "accuracy 0.4394\n",
      "Epoch 40, CIFAR-10 Batch 1:  loss 1.06136\n",
      "accuracy 0.4312\n",
      "Epoch 41, CIFAR-10 Batch 1:  loss 1.07379\n",
      "accuracy 0.435\n",
      "Epoch 42, CIFAR-10 Batch 1:  loss 1.02538\n",
      "accuracy 0.4424\n",
      "Epoch 43, CIFAR-10 Batch 1:  loss 1.01471\n",
      "accuracy 0.4394\n",
      "Epoch 44, CIFAR-10 Batch 1:  loss 1.00747\n",
      "accuracy 0.4418\n",
      "Epoch 45, CIFAR-10 Batch 1:  loss 1.02945\n",
      "accuracy 0.4308\n",
      "Epoch 46, CIFAR-10 Batch 1:  loss 1.00096\n",
      "accuracy 0.4272\n",
      "Epoch 47, CIFAR-10 Batch 1:  loss 1.00538\n",
      "accuracy 0.4402\n",
      "Epoch 48, CIFAR-10 Batch 1:  loss 0.968688\n",
      "accuracy 0.438\n",
      "Epoch 49, CIFAR-10 Batch 1:  loss 0.952543\n",
      "accuracy 0.4474\n",
      "Epoch 50, CIFAR-10 Batch 1:  loss 0.930143\n",
      "accuracy 0.4498\n"
>>>>>>> 371a080e55db1775eaaeec36ffebb55676b5d43b
     ]
    }
   ],
   "source": [
    "\"\"\"\n",
    "DON'T MODIFY ANYTHING IN THIS CELL\n",
    "\"\"\"\n",
    "print('Checking the Training on a Single Batch...')\n",
    "with tf.Session() as sess:\n",
    "    # Initializing the variables\n",
    "    sess.run(tf.global_variables_initializer())\n",
    "    \n",
    "    # Training cycle\n",
    "    for epoch in range(epochs):\n",
    "        batch_i = 1\n",
    "        for batch_features, batch_labels in helper.load_preprocess_training_batch(batch_i, batch_size):\n",
    "            train_neural_network(sess, optimizer, keep_probability, batch_features, batch_labels)\n",
    "        print('Epoch {:>2}, CIFAR-10 Batch {}:  '.format(epoch + 1, batch_i), end='')\n",
    "        print_stats(sess, batch_features, batch_labels, cost, accuracy)"
   ]
  },
  {
   "cell_type": "code",
   "execution_count": 52,
   "metadata": {
    "collapsed": false,
    "deletable": true,
    "editable": true
   },
   "outputs": [
    {
     "name": "stdout",
     "output_type": "stream",
     "text": [
      "Training...\n",
      "Epoch  1, CIFAR-10 Batch 1:  loss 2.25203\n",
      "accuracy 0.154\n",
      "Epoch  1, CIFAR-10 Batch 2:  loss 2.18159\n",
      "accuracy 0.1576\n",
      "Epoch  1, CIFAR-10 Batch 3:  loss 2.11198\n",
      "accuracy 0.183\n",
      "Epoch  1, CIFAR-10 Batch 4:  loss 2.06141\n",
      "accuracy 0.1922\n",
      "Epoch  1, CIFAR-10 Batch 5:  loss 2.07092\n",
      "accuracy 0.199\n",
      "Epoch  2, CIFAR-10 Batch 1:  loss 2.06931\n",
      "accuracy 0.2144\n",
      "Epoch  2, CIFAR-10 Batch 2:  loss 2.04607\n",
      "accuracy 0.2242\n",
      "Epoch  2, CIFAR-10 Batch 3:  loss 1.9812\n",
      "accuracy 0.2258\n",
      "Epoch  2, CIFAR-10 Batch 4:  loss 1.94931\n",
      "accuracy 0.2302\n",
      "Epoch  2, CIFAR-10 Batch 5:  loss 2.00123\n",
      "accuracy 0.2526\n",
      "Epoch  3, CIFAR-10 Batch 1:  loss 1.94304\n",
      "accuracy 0.3204\n",
      "Epoch  3, CIFAR-10 Batch 2:  loss 1.84831\n",
      "accuracy 0.347\n",
      "Epoch  3, CIFAR-10 Batch 3:  loss 1.81888\n",
      "accuracy 0.3338\n",
      "Epoch  3, CIFAR-10 Batch 4:  loss 1.7835\n",
      "accuracy 0.3544\n",
      "Epoch  3, CIFAR-10 Batch 5:  loss 1.87243\n",
      "accuracy 0.3418\n",
      "Epoch  4, CIFAR-10 Batch 1:  loss 1.83367\n",
      "accuracy 0.3576\n",
      "Epoch  4, CIFAR-10 Batch 2:  loss 1.74195\n",
      "accuracy 0.3724\n",
      "Epoch  4, CIFAR-10 Batch 3:  loss 1.70377\n",
      "accuracy 0.3688\n",
      "Epoch  4, CIFAR-10 Batch 4:  loss 1.70425\n",
      "accuracy 0.376\n",
      "Epoch  4, CIFAR-10 Batch 5:  loss 1.75438\n",
      "accuracy 0.3868\n",
      "Epoch  5, CIFAR-10 Batch 1:  loss 1.73453\n",
      "accuracy 0.3894\n",
      "Epoch  5, CIFAR-10 Batch 2:  loss 1.65515\n",
      "accuracy 0.4218\n",
      "Epoch  5, CIFAR-10 Batch 3:  loss 1.55291\n",
      "accuracy 0.4178\n",
      "Epoch  5, CIFAR-10 Batch 4:  loss 1.54995\n",
      "accuracy 0.4396\n",
      "Epoch  5, CIFAR-10 Batch 5:  loss 1.64115\n",
      "accuracy 0.4326\n",
      "Epoch  6, CIFAR-10 Batch 1:  loss 1.59732\n",
      "accuracy 0.4406\n",
      "Epoch  6, CIFAR-10 Batch 2:  loss 1.57063\n",
      "accuracy 0.444\n",
      "Epoch  6, CIFAR-10 Batch 3:  loss 1.45035\n",
      "accuracy 0.4416\n",
      "Epoch  6, CIFAR-10 Batch 4:  loss 1.47428\n",
      "accuracy 0.4488\n",
      "Epoch  6, CIFAR-10 Batch 5:  loss 1.55306\n",
      "accuracy 0.4482\n",
      "Epoch  7, CIFAR-10 Batch 1:  loss 1.55463\n",
      "accuracy 0.4518\n",
      "Epoch  7, CIFAR-10 Batch 2:  loss 1.52173\n",
      "accuracy 0.4564\n",
      "Epoch  7, CIFAR-10 Batch 3:  loss 1.38091\n",
      "accuracy 0.4556\n",
      "Epoch  7, CIFAR-10 Batch 4:  loss 1.40441\n",
      "accuracy 0.4618\n",
      "Epoch  7, CIFAR-10 Batch 5:  loss 1.51624\n",
      "accuracy 0.4514\n",
      "Epoch  8, CIFAR-10 Batch 1:  loss 1.53861\n",
      "accuracy 0.4428\n",
      "Epoch  8, CIFAR-10 Batch 2:  loss 1.46985\n",
      "accuracy 0.4638\n",
      "Epoch  8, CIFAR-10 Batch 3:  loss 1.36232\n",
      "accuracy 0.4534\n",
      "Epoch  8, CIFAR-10 Batch 4:  loss 1.37656\n",
      "accuracy 0.4674\n",
      "Epoch  8, CIFAR-10 Batch 5:  loss 1.44152\n",
      "accuracy 0.4736\n",
      "Epoch  9, CIFAR-10 Batch 1:  loss 1.48678\n",
      "accuracy 0.4718\n",
      "Epoch  9, CIFAR-10 Batch 2:  loss 1.44643\n",
      "accuracy 0.472\n",
      "Epoch  9, CIFAR-10 Batch 3:  loss 1.32\n",
      "accuracy 0.4748\n",
      "Epoch  9, CIFAR-10 Batch 4:  loss 1.36716\n",
      "accuracy 0.4678\n",
      "Epoch  9, CIFAR-10 Batch 5:  loss 1.4236\n",
      "accuracy 0.4714\n",
      "Epoch 10, CIFAR-10 Batch 1:  loss 1.4486\n",
      "accuracy 0.4782\n",
      "Epoch 10, CIFAR-10 Batch 2:  loss 1.43448\n",
      "accuracy 0.471\n",
      "Epoch 10, CIFAR-10 Batch 3:  loss 1.29292\n",
      "accuracy 0.468\n",
      "Epoch 10, CIFAR-10 Batch 4:  loss 1.32532\n",
      "accuracy 0.4782\n",
      "Epoch 10, CIFAR-10 Batch 5:  loss 1.38215\n",
      "accuracy 0.477\n",
      "Epoch 11, CIFAR-10 Batch 1:  loss 1.41574\n",
      "accuracy 0.4756\n",
      "Epoch 11, CIFAR-10 Batch 2:  loss 1.37567\n",
      "accuracy 0.475\n",
      "Epoch 11, CIFAR-10 Batch 3:  loss 1.25158\n",
      "accuracy 0.469\n",
      "Epoch 11, CIFAR-10 Batch 4:  loss 1.25062\n",
      "accuracy 0.4862\n",
      "Epoch 11, CIFAR-10 Batch 5:  loss 1.36698\n",
      "accuracy 0.4868\n",
      "Epoch 12, CIFAR-10 Batch 1:  loss 1.37686\n",
      "accuracy 0.4958\n",
      "Epoch 12, CIFAR-10 Batch 2:  loss 1.34362\n",
      "accuracy 0.4916\n",
      "Epoch 12, CIFAR-10 Batch 3:  loss 1.16907\n",
      "accuracy 0.5232\n",
      "Epoch 12, CIFAR-10 Batch 4:  loss 1.0969\n",
      "accuracy 0.5184\n",
      "Epoch 12, CIFAR-10 Batch 5:  loss 1.1933\n",
      "accuracy 0.527\n",
      "Epoch 13, CIFAR-10 Batch 1:  loss 1.24156\n",
      "accuracy 0.5448\n",
      "Epoch 13, CIFAR-10 Batch 2:  loss 1.16727\n",
      "accuracy 0.5268\n",
      "Epoch 13, CIFAR-10 Batch 3:  loss 1.11959\n",
      "accuracy 0.526\n",
      "Epoch 13, CIFAR-10 Batch 4:  loss 1.08727\n",
      "accuracy 0.5384\n",
      "Epoch 13, CIFAR-10 Batch 5:  loss 1.16198\n",
      "accuracy 0.5422\n",
      "Epoch 14, CIFAR-10 Batch 1:  loss 1.25541\n",
      "accuracy 0.5376\n",
      "Epoch 14, CIFAR-10 Batch 2:  loss 1.13593\n",
      "accuracy 0.5442\n",
      "Epoch 14, CIFAR-10 Batch 3:  loss 1.09386\n",
      "accuracy 0.5498\n",
      "Epoch 14, CIFAR-10 Batch 4:  loss 1.03141\n",
      "accuracy 0.536\n",
      "Epoch 14, CIFAR-10 Batch 5:  loss 1.14279\n",
      "accuracy 0.5438\n",
      "Epoch 15, CIFAR-10 Batch 1:  loss 1.187\n",
      "accuracy 0.5474\n",
      "Epoch 15, CIFAR-10 Batch 2:  loss 1.12354\n",
      "accuracy 0.5524\n",
      "Epoch 15, CIFAR-10 Batch 3:  loss 1.03625\n",
      "accuracy 0.5484\n",
      "Epoch 15, CIFAR-10 Batch 4:  loss 1.0054\n",
      "accuracy 0.5464\n",
      "Epoch 15, CIFAR-10 Batch 5:  loss 1.0756\n",
      "accuracy 0.5518\n",
      "Epoch 16, CIFAR-10 Batch 1:  loss 1.15721\n",
      "accuracy 0.5494\n",
      "Epoch 16, CIFAR-10 Batch 2:  loss 1.10695\n",
      "accuracy 0.5468\n",
      "Epoch 16, CIFAR-10 Batch 3:  loss 1.03165\n",
      "accuracy 0.5468\n",
      "Epoch 16, CIFAR-10 Batch 4:  loss 1.02666\n",
      "accuracy 0.5436\n",
      "Epoch 16, CIFAR-10 Batch 5:  loss 1.0807\n",
      "accuracy 0.5508\n",
      "Epoch 17, CIFAR-10 Batch 1:  loss 1.13149\n",
      "accuracy 0.5538\n",
      "Epoch 17, CIFAR-10 Batch 2:  loss 1.06139\n",
      "accuracy 0.5556\n",
      "Epoch 17, CIFAR-10 Batch 3:  loss 1.01836\n",
      "accuracy 0.5484\n",
      "Epoch 17, CIFAR-10 Batch 4:  loss 0.969998\n",
      "accuracy 0.5564\n",
      "Epoch 17, CIFAR-10 Batch 5:  loss 1.03915\n",
      "accuracy 0.5588\n",
      "Epoch 18, CIFAR-10 Batch 1:  loss 1.1174\n",
      "accuracy 0.5504\n",
      "Epoch 18, CIFAR-10 Batch 2:  loss 1.04074\n",
      "accuracy 0.5582\n",
      "Epoch 18, CIFAR-10 Batch 3:  loss 1.02578\n",
      "accuracy 0.552\n",
      "Epoch 18, CIFAR-10 Batch 4:  loss 0.951702\n",
      "accuracy 0.5612\n",
      "Epoch 18, CIFAR-10 Batch 5:  loss 1.05297\n",
      "accuracy 0.559\n",
      "Epoch 19, CIFAR-10 Batch 1:  loss 1.10977\n",
      "accuracy 0.5618\n",
      "Epoch 19, CIFAR-10 Batch 2:  loss 1.01837\n",
      "accuracy 0.5668\n",
      "Epoch 19, CIFAR-10 Batch 3:  loss 0.970212\n",
      "accuracy 0.5484\n",
      "Epoch 19, CIFAR-10 Batch 4:  loss 0.956973\n",
      "accuracy 0.558\n",
      "Epoch 19, CIFAR-10 Batch 5:  loss 1.00278\n",
      "accuracy 0.566\n",
      "Epoch 20, CIFAR-10 Batch 1:  loss 1.06457\n",
      "accuracy 0.561\n",
      "Epoch 20, CIFAR-10 Batch 2:  loss 1.00566\n",
      "accuracy 0.555\n",
      "Epoch 20, CIFAR-10 Batch 3:  loss 0.997132\n",
      "accuracy 0.5434\n",
      "Epoch 20, CIFAR-10 Batch 4:  loss 0.935605\n",
      "accuracy 0.569\n",
      "Epoch 20, CIFAR-10 Batch 5:  loss 0.98848\n",
      "accuracy 0.5638\n",
      "Epoch 21, CIFAR-10 Batch 1:  loss 1.03888\n",
      "accuracy 0.5656\n",
      "Epoch 21, CIFAR-10 Batch 2:  loss 1.00979\n",
      "accuracy 0.5654\n",
      "Epoch 21, CIFAR-10 Batch 3:  loss 0.947209\n",
      "accuracy 0.5616\n",
      "Epoch 21, CIFAR-10 Batch 4:  loss 0.927379\n",
      "accuracy 0.5688\n",
      "Epoch 21, CIFAR-10 Batch 5:  loss 0.977139\n",
      "accuracy 0.5722\n",
      "Epoch 22, CIFAR-10 Batch 1:  loss 1.00792\n",
      "accuracy 0.562\n",
      "Epoch 22, CIFAR-10 Batch 2:  loss 0.98965\n",
      "accuracy 0.564\n",
      "Epoch 22, CIFAR-10 Batch 3:  loss 0.975195\n",
      "accuracy 0.5504\n",
      "Epoch 22, CIFAR-10 Batch 4:  loss 0.878772\n",
      "accuracy 0.5674\n",
      "Epoch 22, CIFAR-10 Batch 5:  loss 0.940492\n",
      "accuracy 0.5716\n",
      "Epoch 23, CIFAR-10 Batch 1:  loss 0.978542\n",
      "accuracy 0.5686\n",
      "Epoch 23, CIFAR-10 Batch 2:  loss 0.997813\n",
      "accuracy 0.5612\n",
      "Epoch 23, CIFAR-10 Batch 3:  loss 0.97027\n",
      "accuracy 0.5644\n",
      "Epoch 23, CIFAR-10 Batch 4:  loss 0.900866\n",
      "accuracy 0.578\n",
      "Epoch 23, CIFAR-10 Batch 5:  loss 0.937955\n",
      "accuracy 0.5796\n",
      "Epoch 24, CIFAR-10 Batch 1:  loss 1.0127\n",
      "accuracy 0.576\n",
      "Epoch 24, CIFAR-10 Batch 2:  loss 0.969617\n",
      "accuracy 0.5682\n",
      "Epoch 24, CIFAR-10 Batch 3:  loss 0.915588\n",
      "accuracy 0.5654\n",
      "Epoch 24, CIFAR-10 Batch 4:  loss 0.889737\n",
      "accuracy 0.5688\n",
      "Epoch 24, CIFAR-10 Batch 5:  loss 0.919304\n",
      "accuracy 0.5776\n",
      "Epoch 25, CIFAR-10 Batch 1:  loss 0.963669\n",
      "accuracy 0.5776\n",
      "Epoch 25, CIFAR-10 Batch 2:  loss 0.958915\n",
      "accuracy 0.5728\n",
      "Epoch 25, CIFAR-10 Batch 3:  loss 0.906461\n",
      "accuracy 0.5722\n",
      "Epoch 25, CIFAR-10 Batch 4:  loss 0.828857\n",
      "accuracy 0.577\n",
      "Epoch 25, CIFAR-10 Batch 5:  loss 0.873674\n",
      "accuracy 0.5834\n",
      "Epoch 26, CIFAR-10 Batch 1:  loss 0.925366\n",
      "accuracy 0.5816\n",
      "Epoch 26, CIFAR-10 Batch 2:  loss 0.92991\n",
      "accuracy 0.5774\n",
      "Epoch 26, CIFAR-10 Batch 3:  loss 0.871403\n",
      "accuracy 0.5732\n",
      "Epoch 26, CIFAR-10 Batch 4:  loss 0.818613\n",
      "accuracy 0.5816\n",
      "Epoch 26, CIFAR-10 Batch 5:  loss 0.891067\n",
      "accuracy 0.5738\n",
      "Epoch 27, CIFAR-10 Batch 1:  loss 0.95013\n",
      "accuracy 0.5718\n",
      "Epoch 27, CIFAR-10 Batch 2:  loss 0.932204\n",
      "accuracy 0.5722\n",
      "Epoch 27, CIFAR-10 Batch 3:  loss 0.884071\n",
      "accuracy 0.5758\n",
      "Epoch 27, CIFAR-10 Batch 4:  loss 0.794601\n",
      "accuracy 0.583\n",
      "Epoch 27, CIFAR-10 Batch 5:  loss 0.851299\n",
      "accuracy 0.5712\n",
      "Epoch 28, CIFAR-10 Batch 1:  loss 0.922432\n",
      "accuracy 0.5766\n",
      "Epoch 28, CIFAR-10 Batch 2:  loss 0.91059\n",
      "accuracy 0.5798\n",
      "Epoch 28, CIFAR-10 Batch 3:  loss 0.847887\n",
      "accuracy 0.5744\n",
      "Epoch 28, CIFAR-10 Batch 4:  loss 0.789509\n",
      "accuracy 0.5766\n",
      "Epoch 28, CIFAR-10 Batch 5:  loss 0.841807\n",
      "accuracy 0.5728\n",
      "Epoch 29, CIFAR-10 Batch 1:  loss 0.896722\n",
      "accuracy 0.5828\n",
      "Epoch 29, CIFAR-10 Batch 2:  loss 0.897118\n",
      "accuracy 0.5704\n",
      "Epoch 29, CIFAR-10 Batch 3:  loss 0.844069\n",
      "accuracy 0.5772\n",
      "Epoch 29, CIFAR-10 Batch 4:  loss 0.769551\n",
      "accuracy 0.5844\n",
      "Epoch 29, CIFAR-10 Batch 5:  loss 0.847911\n",
      "accuracy 0.5766\n",
      "Epoch 30, CIFAR-10 Batch 1:  loss 0.928364\n",
      "accuracy 0.568\n",
      "Epoch 30, CIFAR-10 Batch 2:  loss 0.922111\n",
      "accuracy 0.5756\n",
      "Epoch 30, CIFAR-10 Batch 3:  loss 0.827812\n",
      "accuracy 0.5794\n",
      "Epoch 30, CIFAR-10 Batch 4:  loss 0.755833\n",
      "accuracy 0.5842\n",
      "Epoch 30, CIFAR-10 Batch 5:  loss 0.850858\n",
      "accuracy 0.5772\n",
      "Epoch 31, CIFAR-10 Batch 1:  loss 0.847708\n",
      "accuracy 0.592\n",
      "Epoch 31, CIFAR-10 Batch 2:  loss 0.850096\n",
      "accuracy 0.5808\n",
      "Epoch 31, CIFAR-10 Batch 3:  loss 0.810412\n",
      "accuracy 0.5736\n",
      "Epoch 31, CIFAR-10 Batch 4:  loss 0.752712\n",
      "accuracy 0.5856\n",
      "Epoch 31, CIFAR-10 Batch 5:  loss 0.802251\n",
      "accuracy 0.5768\n",
      "Epoch 32, CIFAR-10 Batch 1:  loss 0.840977\n",
      "accuracy 0.5932\n",
      "Epoch 32, CIFAR-10 Batch 2:  loss 0.854568\n",
      "accuracy 0.5822\n",
      "Epoch 32, CIFAR-10 Batch 3:  loss 0.820977\n",
      "accuracy 0.5632\n",
      "Epoch 32, CIFAR-10 Batch 4:  loss 0.735451\n",
      "accuracy 0.581\n",
      "Epoch 32, CIFAR-10 Batch 5:  loss 0.80843\n",
      "accuracy 0.5698\n",
      "Epoch 33, CIFAR-10 Batch 1:  loss 0.837829\n",
      "accuracy 0.5842\n",
      "Epoch 33, CIFAR-10 Batch 2:  loss 0.825119\n",
      "accuracy 0.5872\n",
      "Epoch 33, CIFAR-10 Batch 3:  loss 0.786904\n",
      "accuracy 0.5756\n",
      "Epoch 33, CIFAR-10 Batch 4:  loss 0.704971\n",
      "accuracy 0.5844\n",
      "Epoch 33, CIFAR-10 Batch 5:  loss 0.751741\n",
      "accuracy 0.589\n",
      "Epoch 34, CIFAR-10 Batch 1:  loss 0.82404\n",
      "accuracy 0.5824\n",
      "Epoch 34, CIFAR-10 Batch 2:  loss 0.852377\n",
      "accuracy 0.579\n",
      "Epoch 34, CIFAR-10 Batch 3:  loss 0.752789\n",
      "accuracy 0.5894\n",
      "Epoch 34, CIFAR-10 Batch 4:  loss 0.687764\n",
      "accuracy 0.5922\n",
      "Epoch 34, CIFAR-10 Batch 5:  loss 0.765999\n",
      "accuracy 0.5876\n",
      "Epoch 35, CIFAR-10 Batch 1:  loss 0.803358\n",
      "accuracy 0.5846\n",
      "Epoch 35, CIFAR-10 Batch 2:  loss 0.845318\n",
      "accuracy 0.5716\n",
      "Epoch 35, CIFAR-10 Batch 3:  loss 0.748771\n",
      "accuracy 0.5766\n",
      "Epoch 35, CIFAR-10 Batch 4:  loss 0.676449\n",
      "accuracy 0.5876\n",
      "Epoch 35, CIFAR-10 Batch 5:  loss 0.753344\n",
      "accuracy 0.5882\n",
      "Epoch 36, CIFAR-10 Batch 1:  loss 0.839158\n",
      "accuracy 0.576\n",
      "Epoch 36, CIFAR-10 Batch 2:  loss 0.824694\n",
      "accuracy 0.581\n",
      "Epoch 36, CIFAR-10 Batch 3:  loss 0.717559\n",
      "accuracy 0.5896\n",
      "Epoch 36, CIFAR-10 Batch 4:  loss 0.677167\n",
      "accuracy 0.5926\n",
      "Epoch 36, CIFAR-10 Batch 5:  loss 0.738744\n",
      "accuracy 0.5898\n",
      "Epoch 37, CIFAR-10 Batch 1:  loss 0.791571\n",
      "accuracy 0.5914\n",
      "Epoch 37, CIFAR-10 Batch 2:  loss 0.794716\n",
      "accuracy 0.5814\n",
      "Epoch 37, CIFAR-10 Batch 3:  loss 0.697862\n",
      "accuracy 0.5818\n",
      "Epoch 37, CIFAR-10 Batch 4:  loss 0.656124\n",
      "accuracy 0.5912\n",
      "Epoch 37, CIFAR-10 Batch 5:  loss 0.709158\n",
      "accuracy 0.5856\n",
      "Epoch 38, CIFAR-10 Batch 1:  loss 0.787442\n",
      "accuracy 0.5862\n",
      "Epoch 38, CIFAR-10 Batch 2:  loss 0.795162\n",
      "accuracy 0.5818\n",
      "Epoch 38, CIFAR-10 Batch 3:  loss 0.685894\n",
      "accuracy 0.5812\n",
      "Epoch 38, CIFAR-10 Batch 4:  loss 0.660396\n",
      "accuracy 0.5926\n",
      "Epoch 38, CIFAR-10 Batch 5:  loss 0.731457\n",
      "accuracy 0.5958\n",
      "Epoch 39, CIFAR-10 Batch 1:  loss 0.742902\n",
      "accuracy 0.5864\n",
      "Epoch 39, CIFAR-10 Batch 2:  loss 0.786325\n",
      "accuracy 0.5906\n",
      "Epoch 39, CIFAR-10 Batch 3:  loss 0.685324\n",
      "accuracy 0.5918\n",
      "Epoch 39, CIFAR-10 Batch 4:  loss 0.638073\n",
      "accuracy 0.5928\n",
      "Epoch 39, CIFAR-10 Batch 5:  loss 0.713821\n",
      "accuracy 0.5832\n",
      "Epoch 40, CIFAR-10 Batch 1:  loss 0.728094\n",
      "accuracy 0.583\n",
      "Epoch 40, CIFAR-10 Batch 2:  loss 0.791901\n",
      "accuracy 0.5808\n",
      "Epoch 40, CIFAR-10 Batch 3:  loss 0.682797\n",
      "accuracy 0.5936\n",
      "Epoch 40, CIFAR-10 Batch 4:  loss 0.628393\n",
      "accuracy 0.6052\n",
      "Epoch 40, CIFAR-10 Batch 5:  loss 0.72929\n",
      "accuracy 0.5908\n",
      "Epoch 41, CIFAR-10 Batch 1:  loss 0.776501\n",
      "accuracy 0.5844\n",
      "Epoch 41, CIFAR-10 Batch 2:  loss 0.771645\n",
      "accuracy 0.5864\n",
      "Epoch 41, CIFAR-10 Batch 3:  loss 0.691312\n",
      "accuracy 0.5828\n",
      "Epoch 41, CIFAR-10 Batch 4:  loss 0.624194\n",
      "accuracy 0.59\n",
      "Epoch 41, CIFAR-10 Batch 5:  loss 0.709334\n",
      "accuracy 0.5846\n",
      "Epoch 42, CIFAR-10 Batch 1:  loss 0.712323\n",
      "accuracy 0.6004\n",
      "Epoch 42, CIFAR-10 Batch 2:  loss 0.725046\n",
      "accuracy 0.591\n",
      "Epoch 42, CIFAR-10 Batch 3:  loss 0.657806\n",
      "accuracy 0.5968\n",
      "Epoch 42, CIFAR-10 Batch 4:  loss 0.607295\n",
      "accuracy 0.598\n",
      "Epoch 42, CIFAR-10 Batch 5:  loss 0.682626\n",
      "accuracy 0.584\n",
      "Epoch 43, CIFAR-10 Batch 1:  loss 0.713587\n",
      "accuracy 0.5926\n",
      "Epoch 43, CIFAR-10 Batch 2:  loss 0.724941\n",
      "accuracy 0.589\n",
      "Epoch 43, CIFAR-10 Batch 3:  loss 0.649234\n",
      "accuracy 0.5962\n",
      "Epoch 43, CIFAR-10 Batch 4:  loss 0.60733\n",
      "accuracy 0.5858\n",
      "Epoch 43, CIFAR-10 Batch 5:  loss 0.658027\n",
      "accuracy 0.5922\n",
      "Epoch 44, CIFAR-10 Batch 1:  loss 0.711316\n",
      "accuracy 0.5912\n",
      "Epoch 44, CIFAR-10 Batch 2:  loss 0.709435\n",
      "accuracy 0.5942\n",
      "Epoch 44, CIFAR-10 Batch 3:  loss 0.638565\n",
      "accuracy 0.6004\n",
      "Epoch 44, CIFAR-10 Batch 4:  loss 0.595397\n",
      "accuracy 0.5924\n",
      "Epoch 44, CIFAR-10 Batch 5:  loss 0.685362\n",
      "accuracy 0.5902\n",
      "Epoch 45, CIFAR-10 Batch 1:  loss 0.697182\n",
      "accuracy 0.5944\n",
      "Epoch 45, CIFAR-10 Batch 2:  loss 0.718049\n",
      "accuracy 0.5892\n",
      "Epoch 45, CIFAR-10 Batch 3:  loss 0.625463\n",
      "accuracy 0.5876\n",
      "Epoch 45, CIFAR-10 Batch 4:  loss 0.605963\n",
      "accuracy 0.5876\n",
      "Epoch 45, CIFAR-10 Batch 5:  loss 0.645426\n",
      "accuracy 0.5924\n",
      "Epoch 46, CIFAR-10 Batch 1:  loss 0.656606\n",
      "accuracy 0.5992\n",
      "Epoch 46, CIFAR-10 Batch 2:  loss 0.696119\n",
      "accuracy 0.5922\n",
      "Epoch 46, CIFAR-10 Batch 3:  loss 0.602363\n",
      "accuracy 0.5878\n",
      "Epoch 46, CIFAR-10 Batch 4:  loss 0.567762\n",
      "accuracy 0.591\n",
      "Epoch 46, CIFAR-10 Batch 5:  loss 0.665738\n",
      "accuracy 0.5918\n",
      "Epoch 47, CIFAR-10 Batch 1:  loss 0.667798\n",
      "accuracy 0.5992\n",
      "Epoch 47, CIFAR-10 Batch 2:  loss 0.703835\n",
      "accuracy 0.5964\n",
      "Epoch 47, CIFAR-10 Batch 3:  loss 0.62593\n",
      "accuracy 0.5926\n",
      "Epoch 47, CIFAR-10 Batch 4:  loss 0.558659\n",
      "accuracy 0.5992\n",
      "Epoch 47, CIFAR-10 Batch 5:  loss 0.664236\n",
      "accuracy 0.5968\n",
      "Epoch 48, CIFAR-10 Batch 1:  loss 0.652648\n",
      "accuracy 0.6012\n",
      "Epoch 48, CIFAR-10 Batch 2:  loss 0.681521\n",
      "accuracy 0.5964\n",
      "Epoch 48, CIFAR-10 Batch 3:  loss 0.599\n",
      "accuracy 0.5916\n",
      "Epoch 48, CIFAR-10 Batch 4:  loss 0.570916\n",
      "accuracy 0.602\n",
      "Epoch 48, CIFAR-10 Batch 5:  loss 0.645659\n",
      "accuracy 0.5964\n",
      "Epoch 49, CIFAR-10 Batch 1:  loss 0.663123\n",
      "accuracy 0.5916\n",
      "Epoch 49, CIFAR-10 Batch 2:  loss 0.679519\n",
      "accuracy 0.5922\n",
      "Epoch 49, CIFAR-10 Batch 3:  loss 0.596532\n",
      "accuracy 0.5944\n",
      "Epoch 49, CIFAR-10 Batch 4:  loss 0.550191\n",
      "accuracy 0.5882\n",
      "Epoch 49, CIFAR-10 Batch 5:  loss 0.602601\n",
      "accuracy 0.6004\n",
      "Epoch 50, CIFAR-10 Batch 1:  loss 0.610333\n",
      "accuracy 0.5996\n",
      "Epoch 50, CIFAR-10 Batch 2:  loss 0.662639\n",
      "accuracy 0.593\n",
      "Epoch 50, CIFAR-10 Batch 3:  loss 0.5781\n",
      "accuracy 0.5922\n",
      "Epoch 50, CIFAR-10 Batch 4:  loss 0.577205\n",
      "accuracy 0.603\n",
      "Epoch 50, CIFAR-10 Batch 5:  loss 0.599914\n",
      "accuracy 0.601\n"
     ]
    }
   ],
   "source": [
    "\"\"\"\n",
    "DON'T MODIFY ANYTHING IN THIS CELL\n",
    "\"\"\"\n",
    "save_model_path = './image_classification'\n",
    "\n",
    "print('Training...')\n",
    "with tf.Session() as sess:\n",
    "    # Initializing the variables\n",
    "    sess.run(tf.global_variables_initializer())\n",
    "    \n",
    "    # Training cycle\n",
    "    for epoch in range(epochs):\n",
    "        # Loop over all batches\n",
    "        n_batches = 5\n",
    "        for batch_i in range(1, n_batches + 1):\n",
    "            for batch_features, batch_labels in helper.load_preprocess_training_batch(batch_i, batch_size):\n",
    "                train_neural_network(sess, optimizer, keep_probability, batch_features, batch_labels)\n",
    "            print('Epoch {:>2}, CIFAR-10 Batch {}:  '.format(epoch + 1, batch_i), end='')\n",
    "            print_stats(sess, batch_features, batch_labels, cost, accuracy)\n",
    "            \n",
    "    # Save Model\n",
    "    saver = tf.train.Saver()\n",
    "    save_path = saver.save(sess, save_model_path)"
   ]
  },
  {
   "cell_type": "markdown",
   "metadata": {
    "deletable": true,
    "editable": true
   },
   "source": [
    "# Checkpoint\n",
    "The model has been saved to disk.\n",
    "## Test Model\n",
    "Test your model against the test dataset.  This will be your final accuracy. You should have an accuracy greater than 50%. If you don't, keep tweaking the model architecture and parameters."
   ]
  },
  {
   "cell_type": "code",
   "execution_count": 53,
   "metadata": {
    "collapsed": false,
    "deletable": true,
    "editable": true
   },
   "outputs": [
    {
     "name": "stdout",
     "output_type": "stream",
     "text": [
      "Testing Accuracy: 0.5950252771377563\n",
      "\n"
     ]
    },
    {
     "data": {
      "image/png": "iVBORw0KGgoAAAANSUhEUgAAAscAAAJ/CAYAAACUb342AAAABHNCSVQICAgIfAhkiAAAAAlwSFlz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\nNjXYiMCHzuwAAAAASUVORK5CYII=\n",
      "text/plain": [
       "<matplotlib.figure.Figure at 0x7f3770f59f28>"
      ]
     },
     "metadata": {
      "image/png": {
       "height": 319,
       "width": 355
      }
     },
     "output_type": "display_data"
    }
   ],
   "source": [
    "\"\"\"\n",
    "DON'T MODIFY ANYTHING IN THIS CELL\n",
    "\"\"\"\n",
    "%matplotlib inline\n",
    "%config InlineBackend.figure_format = 'retina'\n",
    "\n",
    "import tensorflow as tf\n",
    "import pickle\n",
    "import helper\n",
    "import random\n",
    "\n",
    "# Set batch size if not already set\n",
    "try:\n",
    "    if batch_size:\n",
    "        pass\n",
    "except NameError:\n",
    "    batch_size = 64\n",
    "\n",
    "save_model_path = './image_classification'\n",
    "n_samples = 4\n",
    "top_n_predictions = 3\n",
    "\n",
    "def test_model():\n",
    "    \"\"\"\n",
    "    Test the saved model against the test dataset\n",
    "    \"\"\"\n",
    "\n",
    "    test_features, test_labels = pickle.load(open('preprocess_training.p', mode='rb'))\n",
    "    loaded_graph = tf.Graph()\n",
    "\n",
    "    with tf.Session(graph=loaded_graph) as sess:\n",
    "        # Load model\n",
    "        loader = tf.train.import_meta_graph(save_model_path + '.meta')\n",
    "        loader.restore(sess, save_model_path)\n",
    "\n",
    "        # Get Tensors from loaded model\n",
    "        loaded_x = loaded_graph.get_tensor_by_name('x:0')\n",
    "        loaded_y = loaded_graph.get_tensor_by_name('y:0')\n",
    "        loaded_keep_prob = loaded_graph.get_tensor_by_name('keep_prob:0')\n",
    "        loaded_logits = loaded_graph.get_tensor_by_name('logits:0')\n",
    "        loaded_acc = loaded_graph.get_tensor_by_name('accuracy:0')\n",
    "        \n",
    "        # Get accuracy in batches for memory limitations\n",
    "        test_batch_acc_total = 0\n",
    "        test_batch_count = 0\n",
    "        \n",
    "        for train_feature_batch, train_label_batch in helper.batch_features_labels(test_features, test_labels, batch_size):\n",
    "            test_batch_acc_total += sess.run(\n",
    "                loaded_acc,\n",
    "                feed_dict={loaded_x: train_feature_batch, loaded_y: train_label_batch, loaded_keep_prob: 1.0})\n",
    "            test_batch_count += 1\n",
    "\n",
    "        print('Testing Accuracy: {}\\n'.format(test_batch_acc_total/test_batch_count))\n",
    "\n",
    "        # Print Random Samples\n",
    "        random_test_features, random_test_labels = tuple(zip(*random.sample(list(zip(test_features, test_labels)), n_samples)))\n",
    "        random_test_predictions = sess.run(\n",
    "            tf.nn.top_k(tf.nn.softmax(loaded_logits), top_n_predictions),\n",
    "            feed_dict={loaded_x: random_test_features, loaded_y: random_test_labels, loaded_keep_prob: 1.0})\n",
    "        helper.display_image_predictions(random_test_features, random_test_labels, random_test_predictions)\n",
    "\n",
    "\n",
    "test_model()"
   ]
  },
  {
   "cell_type": "markdown",
   "metadata": {
    "deletable": true,
    "editable": true
   },
   "source": [
    "## Why 50-70% Accuracy?\n",
    "You might be wondering why you can't get an accuracy any higher. First things first, 50% isn't bad for a simple CNN.  Pure guessing would get you 10% accuracy. However, you might notice people are getting scores [well above 70%](http://rodrigob.github.io/are_we_there_yet/build/classification_datasets_results.html#43494641522d3130).  That's because we haven't taught you all there is to know about neural networks. We still need to cover a few more techniques.\n",
    "## Submitting This Project\n",
    "When submitting this project, make sure to run all the cells before saving the notebook.  Save the notebook file as \"dlnd_image_classification.ipynb\" and save it as a HTML file under \"File\" -> \"Download as\".  Include the \"helper.py\" and \"problem_unittests.py\" files in your submission."
   ]
  }
 ],
 "metadata": {
  "anaconda-cloud": {},
  "kernelspec": {
   "display_name": "Python 3",
   "language": "python",
   "name": "python3"
  },
  "language_info": {
   "codemirror_mode": {
    "name": "ipython",
    "version": 3
   },
   "file_extension": ".py",
   "mimetype": "text/x-python",
   "name": "python",
   "nbconvert_exporter": "python",
   "pygments_lexer": "ipython3",
   "version": "3.5.2"
  },
  "widgets": {
   "state": {},
   "version": "1.1.2"
  }
 },
 "nbformat": 4,
 "nbformat_minor": 0
}
